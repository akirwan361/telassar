{
 "cells": [
  {
   "cell_type": "code",
   "execution_count": 1,
   "metadata": {},
   "outputs": [],
   "source": [
    "%load_ext autoreload\n",
    "%autoreload 2"
   ]
  },
  {
   "cell_type": "code",
   "execution_count": 2,
   "metadata": {},
   "outputs": [],
   "source": [
    "import numpy as np\n",
    "from astropy.io import fits\n",
    "import warnings\n",
    "from scipy import optimize\n",
    "# import muse_tools as mt\n",
    "import matplotlib.pyplot as plt\n",
    "from astropy.stats import gaussian_sigma_to_fwhm\n",
    "from telassar import PVSlice\n",
    "import astropy.units as u"
   ]
  },
  {
   "cell_type": "code",
   "execution_count": 2,
   "metadata": {
    "scrolled": true
   },
   "outputs": [],
   "source": [
    "def gauss2D(amp, x0, y0, xsig, ysig):\n",
    "    return lambda x, y: amp * np.exp(-(((x0 - x)/xsig)**2 +\n",
    "                                       ((y0 - y)/ysig)**2)/2)\n",
    "\n",
    "def moments(data):\n",
    "    total = np.abs(data).sum()\n",
    "    Y, X = np.indices(data.shape)\n",
    "    y = np.argmax((X * np.abs(data)).sum(axis = 1) / total)\n",
    "    x = np.argmax((Y * np.abs(data)).sum(axis = 0) /total)\n",
    "    col = data[int(y), :]\n",
    "    row = data[:, int(x)]\n",
    "    xwidth = np.sqrt(np.abs((np.arange(col.size) - y)*col).sum() / \n",
    "                     np.abs(col).sum())\n",
    "    ywidth = np.sqrt(np.abs((np.arange(row.size) - x)*row).sum() /\n",
    "                     np.abs(row).sum())\n",
    "    height = data.max()\n",
    "    mom = np.array([ywidth, xwidth])\n",
    "    return height, y, x, ywidth, xwidth\n",
    "\n",
    "def fitgauss(data):\n",
    "    params = (moments(data))\n",
    "    errorfunction = lambda p: np.ravel(gauss2D(*p)(*np.indices(data.shape)) - data)\n",
    "    p, success = optimize.leastsq(errorfunction, x0 = params)\n",
    "    return p"
   ]
  },
  {
   "cell_type": "code",
   "execution_count": 4,
   "metadata": {},
   "outputs": [],
   "source": [
    "f = fits.open('SII_rotated_new.fits')[0]\n",
    "              #'../multigauss/SII_rotated.fits')[0]\n",
    "               # 'muse_sii.fits')[0]\n",
    "data = f.data\n",
    "hdr = f.header\n",
    "\n",
    "#del muse_sii"
   ]
  },
  {
   "cell_type": "code",
   "execution_count": 5,
   "metadata": {},
   "outputs": [],
   "source": [
    "muse_pv = np.sum(data[:, :, 16:29], axis = 2).T\n",
    "#xshoo_pv = fits.open('data/HD163296_SIIF_6730.fits')[0]\n",
    "#xsh_data = xshoo_pv.data\n",
    "#xsh_hdr = xshoo_pv.header\n",
    "#muse_pv"
   ]
  },
  {
   "cell_type": "code",
   "execution_count": null,
   "metadata": {},
   "outputs": [],
   "source": [
    "%matplotlib notebook\n",
    "import matplotlib.pyplot as plt \n",
    "#plt.imshow(data[25, :, :], origin = 'lower', aspect = 'equal')\n",
    "plt.imshow(muse_pv, origin = 'lower', aspect = 'auto')\n",
    "data.shape"
   ]
  },
  {
   "cell_type": "code",
   "execution_count": 8,
   "metadata": {},
   "outputs": [
    {
     "data": {
      "text/plain": [
       "'\\nunit = (xshoo_sii.velwave.unit)\\ncdelt = xshoo_sii.velwave.wcs.wcs.get_cdelt()[0]\\npc = xshoo_sii.velwave.wcs.wcs.get_pc()[0][0]\\nstep = cdelt * pc\\n\\nstep = (step * unit).to(unit)#.value\\nprint(step)'"
      ]
     },
     "execution_count": 8,
     "metadata": {},
     "output_type": "execute_result"
    }
   ],
   "source": [
    "import logging\n",
    "\n",
    "muse_sii = PVSlice(data = muse_pv, header=hdr)\n",
    "                   # 'muse_sii.fits')\n",
    "xshoo_sii = PVSlice('data/HD163296_SIIF_6730.fits')\n",
    "#print(muse_sii.position.unit)\n",
    "#print(xshoo_sii.position.unit)\n",
    "\n",
    "#sub = xshoo_sii[40:50, 10:20]\n",
    "\n",
    "#xshoo_sii.position.__logger = logging.getLogger(__name__)\n",
    "'''\n",
    "unit = (xshoo_sii.velwave.unit)\n",
    "cdelt = xshoo_sii.velwave.wcs.wcs.get_cdelt()[0]\n",
    "pc = xshoo_sii.velwave.wcs.wcs.get_pc()[0][0]\n",
    "step = cdelt * pc\n",
    "\n",
    "step = (step * unit).to(unit)#.value\n",
    "print(step)'''\n",
    "\n",
    "#xshoo_sii.velwave.info()\n",
    "#testdata, testwcs = muse_sii.spatial_profile(wave=(5, 10), arc = (0, 25), unit1 = u.arcsec)"
   ]
  },
  {
   "cell_type": "code",
   "execution_count": 10,
   "metadata": {},
   "outputs": [
    {
     "name": "stderr",
     "output_type": "stream",
     "text": [
      "[INFO] 330 x 149 PVSlice (data/HD163296_SIIF_6730.fits)\n",
      "[INFO] .data(330 x 149) (km / s arcsec)\n",
      "[INFO] Spatial Offset: min: -25.3\" max: 40.5\" step: 0.200\"\n",
      "[INFO] Spatial extent: min -395.35 km/s max: 594.12 km/s step: 6.686 km/s\n"
     ]
    },
    {
     "name": "stdout",
     "output_type": "stream",
     "text": [
      "None\n"
     ]
    }
   ],
   "source": [
    "print(xshoo_sii.info())"
   ]
  },
  {
   "cell_type": "code",
   "execution_count": 33,
   "metadata": {},
   "outputs": [
    {
     "data": {
      "text/plain": [
       "126"
      ]
     },
     "execution_count": 33,
     "metadata": {},
     "output_type": "execute_result"
    }
   ],
   "source": [
    "len(testdata)"
   ]
  },
  {
   "cell_type": "code",
   "execution_count": null,
   "metadata": {},
   "outputs": [],
   "source": [
    "%matplotlib notebook\n",
    "mx = muse_sii.world.get_spatial_end()\n",
    "print(muse_sii.world.get_spatial_start())\n",
    "print(mx)\n",
    "#muse_sii2 = muse_sii.spatial_window(amin = -35., amax = mx, unit = u.Unit('arcsec'))\n",
    "#muse_sii2.world\n",
    "muse_sii2.plot_contours()\n",
    "\n",
    "\n",
    "#ax = plt.gca()\n",
    "#ax.set_aspect('auto')\n",
    "#plt.axvline(x= 6730.81)\n",
    "#plt.axvline(x = 6716.44)\n",
    "#muse_sii.shape"
   ]
  },
  {
   "cell_type": "markdown",
   "metadata": {},
   "source": [
    "test for a `LineProfile` class?"
   ]
  },
  {
   "cell_type": "code",
   "execution_count": null,
   "metadata": {},
   "outputs": [],
   "source": [
    "class LineProfile(DataND):\n",
    "\n",
    "    def __init__(self, data):\n",
    "        # do something\n",
    "        return"
   ]
  }
 ],
 "metadata": {
  "kernelspec": {
   "display_name": "Python 3",
   "language": "python",
   "name": "python3"
  },
  "language_info": {
   "codemirror_mode": {
    "name": "ipython",
    "version": 3
   },
   "file_extension": ".py",
   "mimetype": "text/x-python",
   "name": "python",
   "nbconvert_exporter": "python",
   "pygments_lexer": "ipython3",
   "version": "3.7.5"
  }
 },
 "nbformat": 4,
 "nbformat_minor": 2
}
